{
 "cells": [
  {
   "cell_type": "markdown",
   "id": "9da90478",
   "metadata": {},
   "source": [
    "# Loading a CSV file into SQL after data cleaning\n",
    "The Carbon Nanotube Data to be passed into an SQL table"
   ]
  },
  {
   "cell_type": "markdown",
   "id": "d02d2791",
   "metadata": {},
   "source": [
    "# Importing Libraries"
   ]
  },
  {
   "cell_type": "code",
   "execution_count": null,
   "id": "654a89e7",
   "metadata": {},
   "outputs": [],
   "source": [
    "import mysql.connector as connection\n",
    "import csv\n",
    "mydb = connection.connect(host=\"localhost\", user=\"root\", passwd=\"mysql\",use_pure=True)\n",
    "cur = mydb.cursor()"
   ]
  },
  {
   "cell_type": "markdown",
   "id": "f3f79837",
   "metadata": {},
   "source": [
    "# Creating SQL Table"
   ]
  },
  {
   "cell_type": "code",
   "execution_count": null,
   "id": "a817dff9",
   "metadata": {},
   "outputs": [],
   "source": [
    "cur.execute(\"CREATE TABLE d_base.nanotube (Chiral_indice int(5), Chiral-Indice int(5), Initial_atomic_coordinate varchar(20),\"\\\n",
    "            \" Initial_atomic_coordinate varchar(20),  Initial_atomic_coordinate varchar(20), Calculated-atomic-coordinates varchar(20), \"\\\n",
    "            \" Calculated_atomic_coordinates varchar(20), Calculated _atomic_coordinates varchar(20))\")"
   ]
  },
  {
   "cell_type": "markdown",
   "id": "3798f6cb",
   "metadata": {},
   "source": [
    "# Data Cleaning\n",
    "Data cleaning and loading into a new csv file"
   ]
  },
  {
   "cell_type": "code",
   "execution_count": null,
   "id": "b4a34bce",
   "metadata": {},
   "outputs": [],
   "source": [
    "new=open(\"data.csv\",'w')\n",
    "writer=csv.writer(new)\n",
    "with open(\"carbon_nanotubes.csv\",'r') as data:\n",
    "    next(data)\n",
    "    data_csv=csv.reader(data,delimiter=';')\n",
    "    for i in data_csv:\n",
    "        k=0\n",
    "        for j in i:\n",
    "            g=j.replace(';',',')\n",
    "            i[k]=g.replace('\\n','')\n",
    "            k+=1\n",
    "        if any(i):\n",
    "            writer.writerow(i)\n",
    "            \n",
    "with open('data.csv') as input, open('data1.csv', 'w', newline='') as output:\n",
    "     writer = csv.writer(output)\n",
    "     for row in csv.reader(input):\n",
    "         if any(field.strip() for field in row):\n",
    "             writer.writerow(row)"
   ]
  },
  {
   "cell_type": "markdown",
   "id": "51b068fa",
   "metadata": {},
   "source": [
    "# Inserting in SQL Table"
   ]
  },
  {
   "cell_type": "code",
   "execution_count": null,
   "id": "f7ee41d3",
   "metadata": {},
   "outputs": [],
   "source": [
    "with open(\"data1.csv\",'r') as d1:\n",
    "    for i in d1:\n",
    "        cur.execute('insert into sat1234.nanotube4 values ({data})'.format(data=(i)))\n",
    "        \n",
    "mydb.commit()"
   ]
  },
  {
   "cell_type": "markdown",
   "id": "6ee12039",
   "metadata": {},
   "source": [
    "# View data from SQL Table"
   ]
  },
  {
   "cell_type": "code",
   "execution_count": null,
   "id": "c8cdfa93",
   "metadata": {},
   "outputs": [],
   "source": [
    "mydb = connection.connect(host=\"localhost\", user=\"root\", passwd=\"mysql\",use_pure=True)\n",
    "cur=mydb.cursor()\n",
    "cur.execute(\"select * from sat1234.nanotube4\")\n",
    "for i in cur.fetchall():\n",
    "    print(i)"
   ]
  }
 ],
 "metadata": {
  "kernelspec": {
   "display_name": "Python 3",
   "language": "python",
   "name": "python3"
  },
  "language_info": {
   "codemirror_mode": {
    "name": "ipython",
    "version": 3
   },
   "file_extension": ".py",
   "mimetype": "text/x-python",
   "name": "python",
   "nbconvert_exporter": "python",
   "pygments_lexer": "ipython3",
   "version": "3.8.8"
  }
 },
 "nbformat": 4,
 "nbformat_minor": 5
}
